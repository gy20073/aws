{
 "metadata": {
  "name": "",
  "signature": "sha256:d76c42987119a216f31842563dab76027e3fb48ca5fd8a0f1a8927dc32571165"
 },
 "nbformat": 3,
 "nbformat_minor": 0,
 "worksheets": [
  {
   "cells": [
    {
     "cell_type": "code",
     "collapsed": false,
     "input": [
      "bag_path= \"/scratch/yang/aws_data/human_driving/2018-11-14_09-37-53/bag_4.bag\"\n",
      "bag = rosbag.Bag(bag_path, 'r')\n",
      "#im = read_topic(bag, \"/compressed0\", image_converter)\n"
     ],
     "language": "python",
     "metadata": {},
     "outputs": [],
     "prompt_number": 18
    },
    {
     "cell_type": "code",
     "collapsed": false,
     "input": [],
     "language": "python",
     "metadata": {},
     "outputs": [],
     "prompt_number": 69
    },
    {
     "cell_type": "code",
     "collapsed": false,
     "input": [
      "yaw_now, pos = main(ss, recorder, yaw_now, pos)"
     ],
     "language": "python",
     "metadata": {},
     "outputs": [
      {
       "output_type": "stream",
       "stream": "stdout",
       "text": [
        "('with in recorder, ', 64937.673095703125)\n",
        "('with in recorder, ', 65187.960205078125)\n",
        "('the best key is ', 'right')"
       ]
      },
      {
       "output_type": "stream",
       "stream": "stdout",
       "text": [
        "\n",
        "('with in recorder, ', 9.471923828125)\n",
        "('with in recorder, ', 214.80078125)\n",
        "('with in recorder, ', 462.591064453125)\n",
        "('with in recorder, ', 709.944580078125)\n",
        "('with in recorder, ', 956.976806640625)\n",
        "('with in recorder, ', 1202.28662109375)\n",
        "('with in recorder, ', 1405.017822265625)\n",
        "('with in recorder, ', 1652.608642578125)\n",
        "('with in recorder, ', 1904.421875)\n",
        "('with in recorder, ', 2149.317138671875)\n",
        "('with in recorder, ', 2351.884033203125)\n",
        "('with in recorder, ', 2554.3935546875)\n",
        "('with in recorder, ', 2755.4541015625)\n",
        "('with in recorder, ', 3006.341552734375)\n",
        "('with in recorder, ', 3214.400634765625)\n",
        "('with in recorder, ', 3458.837158203125)\n",
        "('with in recorder, ', 3658.08154296875)\n",
        "('with in recorder, ', 3903.952880859375)\n",
        "('with in recorder, ', 4146.98095703125)\n",
        "('with in recorder, ', 4399.06298828125)\n",
        "('with in recorder, ', 4645.75732421875)\n",
        "('with in recorder, ', 4846.7421875)\n",
        "('with in recorder, ', 5047.888427734375)\n",
        "('with in recorder, ', 5299.48193359375)\n",
        "('with in recorder, ', 5544.799072265625)\n",
        "('with in recorder, ', 5748.86376953125)\n",
        "('with in recorder, ', 5995.198486328125)\n",
        "('with in recorder, ', 6241.365234375)\n",
        "('with in recorder, ', 6492.622802734375)\n",
        "('with in recorder, ', 6736.22216796875)\n",
        "('with in recorder, ', 6940.55029296875)\n",
        "('with in recorder, ', 7185.250732421875)\n",
        "('with in recorder, ', 7431.814697265625)\n",
        "('with in recorder, ', 7637.109130859375)\n",
        "('with in recorder, ', 7836.83203125)\n",
        "('with in recorder, ', 8086.093994140625)\n",
        "('with in recorder, ', 8290.169189453125)\n",
        "('with in recorder, ', 8497.001708984375)\n",
        "('with in recorder, ', 8735.87451171875)\n",
        "('with in recorder, ', 8985.727294921875)\n",
        "('with in recorder, ', 9186.465087890625)\n",
        "('with in recorder, ', 9386.23046875)\n",
        "('with in recorder, ', 9636.100341796875)\n",
        "('with in recorder, ', 9883.54052734375)\n",
        "('with in recorder, ', 10136.076904296875)\n"
       ]
      },
      {
       "output_type": "stream",
       "stream": "stdout",
       "text": [
        "('with in recorder, ', 10382.556640625)\n",
        "('with in recorder, ', 10588.025390625)\n"
       ]
      },
      {
       "output_type": "stream",
       "stream": "stdout",
       "text": [
        "('with in recorder, ', 10797.157470703125)\n",
        "('with in recorder, ', 10995.42919921875)\n"
       ]
      },
      {
       "output_type": "stream",
       "stream": "stdout",
       "text": [
        "('with in recorder, ', 11198.310302734375)\n",
        "('with in recorder, ', 11398.774169921875)\n"
       ]
      },
      {
       "output_type": "stream",
       "stream": "stdout",
       "text": [
        "('with in recorder, ', 11603.24951171875)\n",
        "('with in recorder, ', 11849.000244140625)\n"
       ]
      },
      {
       "output_type": "stream",
       "stream": "stdout",
       "text": [
        "('with in recorder, ', 12052.347900390625)\n",
        "('with in recorder, ', 12252.60498046875)\n"
       ]
      },
      {
       "output_type": "stream",
       "stream": "stdout",
       "text": [
        "('with in recorder, ', 12458.33447265625)\n",
        "('with in recorder, ', 12660.7783203125)\n"
       ]
      },
      {
       "output_type": "stream",
       "stream": "stdout",
       "text": [
        "('with in recorder, ', 12861.966796875)\n",
        "('with in recorder, ', 13111.312744140625)\n"
       ]
      },
      {
       "output_type": "stream",
       "stream": "stdout",
       "text": [
        "('with in recorder, ', 13357.54931640625)\n",
        "('with in recorder, ', 13605.81787109375)\n"
       ]
      },
      {
       "output_type": "stream",
       "stream": "stdout",
       "text": [
        "('with in recorder, ', 13851.117919921875)\n",
        "('with in recorder, ', 14099.646484375)\n"
       ]
      },
      {
       "output_type": "stream",
       "stream": "stdout",
       "text": [
        "('with in recorder, ', 14304.708984375)\n",
        "('with in recorder, ', 14549.498291015625)\n",
        "('with in recorder, ', 14751.6533203125)\n"
       ]
      },
      {
       "output_type": "stream",
       "stream": "stdout",
       "text": [
        "('with in recorder, ', 14955.11328125)\n",
        "('with in recorder, ', 15155.617431640625)\n",
        "('with in recorder, ', 15365.491943359375)\n"
       ]
      },
      {
       "output_type": "stream",
       "stream": "stdout",
       "text": [
        "('with in recorder, ', 15611.374755859375)\n",
        "('with in recorder, ', 15815.818603515625)\n"
       ]
      },
      {
       "output_type": "stream",
       "stream": "stdout",
       "text": [
        "('with in recorder, ', 16066.130859375)\n",
        "('with in recorder, ', 16311.314697265625)\n"
       ]
      },
      {
       "output_type": "stream",
       "stream": "stdout",
       "text": [
        "('with in recorder, ', 16561.69873046875)\n",
        "('with in recorder, ', 16766.09521484375)\n"
       ]
      },
      {
       "output_type": "stream",
       "stream": "stdout",
       "text": [
        "('with in recorder, ', 17012.86376953125)\n",
        "('with in recorder, ', 17213.671630859375)\n"
       ]
      },
      {
       "output_type": "stream",
       "stream": "stdout",
       "text": [
        "('with in recorder, ', 17462.239501953125)\n",
        "('with in recorder, ', 17665.9853515625)\n"
       ]
      },
      {
       "output_type": "stream",
       "stream": "stdout",
       "text": [
        "('with in recorder, ', 17912.481201171875)\n",
        "('with in recorder, ', 18116.740234375)\n"
       ]
      },
      {
       "output_type": "stream",
       "stream": "stdout",
       "text": [
        "('with in recorder, ', 18360.5615234375)\n",
        "('with in recorder, ', 18563.95654296875)\n"
       ]
      },
      {
       "output_type": "stream",
       "stream": "stdout",
       "text": [
        "('with in recorder, ', 18766.334716796875)\n",
        "('with in recorder, ', 19017.770263671875)\n"
       ]
      },
      {
       "output_type": "stream",
       "stream": "stdout",
       "text": [
        "('with in recorder, ', 19223.579345703125)\n",
        "('with in recorder, ', 19467.81005859375)\n"
       ]
      },
      {
       "output_type": "stream",
       "stream": "stdout",
       "text": [
        "('with in recorder, ', 19715.519287109375)\n",
        "('with in recorder, ', 19963.453857421875)\n"
       ]
      },
      {
       "output_type": "stream",
       "stream": "stdout",
       "text": [
        "('with in recorder, ', 20213.655517578125)\n",
        "('with in recorder, ', 20416.26806640625)\n"
       ]
      },
      {
       "output_type": "stream",
       "stream": "stdout",
       "text": [
        "('with in recorder, ', 20619.4716796875)\n",
        "('with in recorder, ', 20867.323974609375)\n"
       ]
      },
      {
       "output_type": "stream",
       "stream": "stdout",
       "text": [
        "('with in recorder, ', 21067.576171875)\n",
        "('with in recorder, ', 21316.515625)\n"
       ]
      },
      {
       "output_type": "stream",
       "stream": "stdout",
       "text": [
        "('with in recorder, ', 21524.73681640625)\n",
        "('with in recorder, ', 21728.505126953125)\n"
       ]
      },
      {
       "output_type": "stream",
       "stream": "stdout",
       "text": [
        "('with in recorder, ', 21976.292724609375)\n",
        "('with in recorder, ', 22177.25341796875)\n",
        "('with in recorder, ', 22427.946044921875)\n"
       ]
      },
      {
       "output_type": "stream",
       "stream": "stdout",
       "text": [
        "('with in recorder, ', 22672.68505859375)\n",
        "('with in recorder, ', 22920.5849609375)\n",
        "('with in recorder, ', 23122.702880859375)\n"
       ]
      },
      {
       "output_type": "stream",
       "stream": "stdout",
       "text": [
        "('with in recorder, ', 23325.369873046875)\n",
        "('with in recorder, ', 23575.01611328125)\n"
       ]
      },
      {
       "output_type": "stream",
       "stream": "stdout",
       "text": [
        "('with in recorder, ', 23777.51904296875)\n",
        "('with in recorder, ', 23978.860595703125)\n"
       ]
      },
      {
       "output_type": "stream",
       "stream": "stdout",
       "text": [
        "('with in recorder, ', 24235.249267578125)\n",
        "('with in recorder, ', 24430.496337890625)\n",
        "('with in recorder, ', 24679.02783203125)\n"
       ]
      },
      {
       "output_type": "stream",
       "stream": "stdout",
       "text": [
        "('with in recorder, ', 24927.8740234375)\n",
        "('with in recorder, ', 25128.47705078125)\n"
       ]
      },
      {
       "output_type": "stream",
       "stream": "stdout",
       "text": [
        "('with in recorder, ', 25376.498291015625)\n",
        "('with in recorder, ', 25628.954833984375)\n"
       ]
      },
      {
       "output_type": "stream",
       "stream": "stdout",
       "text": [
        "('with in recorder, ', 25875.747314453125)\n",
        "('with in recorder, ', 26081.00341796875)\n"
       ]
      },
      {
       "output_type": "stream",
       "stream": "stdout",
       "text": [
        "('with in recorder, ', 26283.4296875)\n",
        "('with in recorder, ', 26532.3671875)\n"
       ]
      },
      {
       "output_type": "stream",
       "stream": "stdout",
       "text": [
        "('with in recorder, ', 26734.062744140625)\n",
        "('with in recorder, ', 26937.730224609375)\n"
       ]
      },
      {
       "output_type": "stream",
       "stream": "stdout",
       "text": [
        "('with in recorder, ', 27140.636474609375)\n",
        "('with in recorder, ', 27348.59765625)\n"
       ]
      },
      {
       "output_type": "stream",
       "stream": "stdout",
       "text": [
        "('with in recorder, ', 27551.8857421875)\n",
        "('with in recorder, ', 27793.2333984375)\n"
       ]
      },
      {
       "output_type": "stream",
       "stream": "stdout",
       "text": [
        "('with in recorder, ', 28042.428466796875)\n",
        "('with in recorder, ', 28290.179931640625)\n"
       ]
      },
      {
       "output_type": "stream",
       "stream": "stdout",
       "text": [
        "('with in recorder, ', 28490.720458984375)\n",
        "('with in recorder, ', 28737.83349609375)\n"
       ]
      },
      {
       "output_type": "stream",
       "stream": "stdout",
       "text": [
        "('with in recorder, ', 28940.0625)\n",
        "('with in recorder, ', 29187.71337890625)\n"
       ]
      },
      {
       "output_type": "stream",
       "stream": "stdout",
       "text": [
        "('with in recorder, ', 29394.39990234375)\n",
        "('with in recorder, ', 29650.590576171875)\n"
       ]
      },
      {
       "output_type": "stream",
       "stream": "stdout",
       "text": [
        "('with in recorder, ', 29849.086669921875)\n",
        "('with in recorder, ', 30094.324951171875)\n"
       ]
      },
      {
       "output_type": "stream",
       "stream": "stdout",
       "text": [
        "('with in recorder, ', 30340.33203125)\n",
        "('with in recorder, ', 30590.669189453125)\n"
       ]
      },
      {
       "output_type": "stream",
       "stream": "stdout",
       "text": [
        "('with in recorder, ', 30791.888427734375)\n",
        "('with in recorder, ', 31042.334716796875)\n"
       ]
      },
      {
       "output_type": "stream",
       "stream": "stdout",
       "text": [
        "('with in recorder, ', 31289.5859375)\n",
        "('with in recorder, ', 31492.772216796875)\n"
       ]
      },
      {
       "output_type": "stream",
       "stream": "stdout",
       "text": [
        "('with in recorder, ', 31693.476318359375)\n",
        "('with in recorder, ', 31941.12255859375)\n"
       ]
      },
      {
       "output_type": "stream",
       "stream": "stdout",
       "text": [
        "('with in recorder, ', 32189.318359375)\n",
        "('with in recorder, ', 32391.81005859375)\n"
       ]
      },
      {
       "output_type": "stream",
       "stream": "stdout",
       "text": [
        "('with in recorder, ', 32642.95849609375)\n",
        "('with in recorder, ', 32844.881103515625)\n"
       ]
      },
      {
       "output_type": "stream",
       "stream": "stdout",
       "text": [
        "('with in recorder, ', 33049.13525390625)\n",
        "('with in recorder, ', 33251.010009765625)\n"
       ]
      },
      {
       "output_type": "stream",
       "stream": "stdout",
       "text": [
        "('with in recorder, ', 33500.93994140625)\n",
        "('with in recorder, ', 33749.859375)\n"
       ]
      },
      {
       "output_type": "stream",
       "stream": "stdout",
       "text": [
        "('with in recorder, ', 33952.3310546875)\n",
        "('with in recorder, ', 34205.091552734375)\n",
        "('with in recorder, ', 34452.62451171875)\n"
       ]
      },
      {
       "output_type": "stream",
       "stream": "stdout",
       "text": [
        "('with in recorder, ', 34655.298828125)\n",
        "('with in recorder, ', 34862.763671875)\n"
       ]
      },
      {
       "output_type": "stream",
       "stream": "stdout",
       "text": [
        "('with in recorder, ', 35102.9775390625)\n",
        "('with in recorder, ', 35351.489013671875)\n"
       ]
      },
      {
       "output_type": "stream",
       "stream": "stdout",
       "text": [
        "('with in recorder, ', 35599.437744140625)\n",
        "('with in recorder, ', 35850.103271484375)\n"
       ]
      },
      {
       "output_type": "stream",
       "stream": "stdout",
       "text": [
        "('with in recorder, ', 36050.87744140625)\n",
        "('with in recorder, ', 36252.624755859375)\n"
       ]
      },
      {
       "output_type": "stream",
       "stream": "stdout",
       "text": [
        "('with in recorder, ', 36452.994873046875)\n",
        "('with in recorder, ', 36655.90771484375)\n"
       ]
      },
      {
       "output_type": "stream",
       "stream": "stdout",
       "text": [
        "('with in recorder, ', 36859.065673828125)\n",
        "('with in recorder, ', 37061.06982421875)\n"
       ]
      },
      {
       "output_type": "stream",
       "stream": "stdout",
       "text": [
        "('with in recorder, ', 37260.619873046875)\n",
        "('with in recorder, ', 37463.747802734375)\n"
       ]
      },
      {
       "output_type": "stream",
       "stream": "stdout",
       "text": [
        "('with in recorder, ', 37708.34228515625)\n",
        "('with in recorder, ', 37957.349365234375)\n"
       ]
      },
      {
       "output_type": "stream",
       "stream": "stdout",
       "text": [
        "('with in recorder, ', 38159.78662109375)\n",
        "('with in recorder, ', 38408.705322265625)\n"
       ]
      },
      {
       "output_type": "stream",
       "stream": "stdout",
       "text": [
        "('with in recorder, ', 38658.971923828125)\n",
        "('with in recorder, ', 38904.52001953125)\n"
       ]
      },
      {
       "output_type": "stream",
       "stream": "stdout",
       "text": [
        "('with in recorder, ', 39110.130126953125)\n",
        "('with in recorder, ', 39311.2880859375)\n"
       ]
      },
      {
       "output_type": "stream",
       "stream": "stdout",
       "text": [
        "('with in recorder, ', 39514.766357421875)\n",
        "('with in recorder, ', 39717.134033203125)\n"
       ]
      },
      {
       "output_type": "stream",
       "stream": "stdout",
       "text": [
        "('with in recorder, ', 39919.867431640625)\n",
        "('with in recorder, ', 40125.92138671875)\n"
       ]
      },
      {
       "output_type": "stream",
       "stream": "stdout",
       "text": [
        "('with in recorder, ', 40323.443115234375)\n",
        "('with in recorder, ', 40524.467529296875)\n"
       ]
      },
      {
       "output_type": "stream",
       "stream": "stdout",
       "text": [
        "('with in recorder, ', 40728.431640625)\n",
        "('with in recorder, ', 40931.091552734375)\n"
       ]
      },
      {
       "output_type": "stream",
       "stream": "stdout",
       "text": [
        "('with in recorder, ', 41133.21533203125)\n",
        "('with in recorder, ', 41379.7568359375)\n"
       ]
      },
      {
       "output_type": "stream",
       "stream": "stdout",
       "text": [
        "('with in recorder, ', 41580.632568359375)\n",
        "('with in recorder, ', 41828.6708984375)\n"
       ]
      },
      {
       "output_type": "stream",
       "stream": "stdout",
       "text": [
        "('with in recorder, ', 42029.697998046875)\n",
        "('with in recorder, ', 42233.580078125)\n"
       ]
      },
      {
       "output_type": "stream",
       "stream": "stdout",
       "text": [
        "('with in recorder, ', 42434.833984375)\n",
        "('with in recorder, ', 42684.0595703125)\n"
       ]
      },
      {
       "output_type": "stream",
       "stream": "stdout",
       "text": [
        "('with in recorder, ', 42933.69189453125)\n",
        "('with in recorder, ', 43179.777587890625)\n"
       ]
      },
      {
       "output_type": "stream",
       "stream": "stdout",
       "text": [
        "('with in recorder, ', 43381.21337890625)\n",
        "('with in recorder, ', 43628.403076171875)\n"
       ]
      },
      {
       "output_type": "stream",
       "stream": "stdout",
       "text": [
        "('with in recorder, ', 43831.009765625)\n",
        "('with in recorder, ', 44080.097412109375)\n"
       ]
      },
      {
       "output_type": "stream",
       "stream": "stdout",
       "text": [
        "('with in recorder, ', 44288.228759765625)\n",
        "('with in recorder, ', 44541.792236328125)\n"
       ]
      },
      {
       "output_type": "stream",
       "stream": "stdout",
       "text": [
        "('with in recorder, ', 44788.374267578125)\n",
        "('with in recorder, ', 45036.50439453125)\n"
       ]
      },
      {
       "output_type": "stream",
       "stream": "stdout",
       "text": [
        "('with in recorder, ', 45237.8681640625)\n",
        "('with in recorder, ', 45446.731689453125)\n"
       ]
      },
      {
       "output_type": "stream",
       "stream": "stdout",
       "text": [
        "('with in recorder, ', 45648.4287109375)\n",
        "('with in recorder, ', 45849.2958984375)\n"
       ]
      },
      {
       "output_type": "stream",
       "stream": "stdout",
       "text": [
        "('with in recorder, ', 46096.6015625)\n",
        "('with in recorder, ', 46348.6923828125)\n"
       ]
      },
      {
       "output_type": "stream",
       "stream": "stdout",
       "text": [
        "('with in recorder, ', 46596.32861328125)\n",
        "('with in recorder, ', 46845.193359375)\n"
       ]
      },
      {
       "output_type": "stream",
       "stream": "stdout",
       "text": [
        "('with in recorder, ', 47047.475341796875)\n",
        "('with in recorder, ', 47250.66796875)\n"
       ]
      },
      {
       "output_type": "stream",
       "stream": "stdout",
       "text": [
        "('with in recorder, ', 47451.836669921875)\n",
        "('with in recorder, ', 47655.39697265625)\n"
       ]
      },
      {
       "output_type": "stream",
       "stream": "stdout",
       "text": [
        "('with in recorder, ', 47855.613037109375)\n",
        "('with in recorder, ', 48067.91015625)\n"
       ]
      },
      {
       "output_type": "stream",
       "stream": "stdout",
       "text": [
        "('with in recorder, ', 48306.862548828125)\n",
        "('with in recorder, ', 48555.465087890625)\n"
       ]
      },
      {
       "output_type": "stream",
       "stream": "stdout",
       "text": [
        "('with in recorder, ', 48757.06787109375)\n",
        "('with in recorder, ', 48958.10009765625)\n",
        "('with in recorder, ', 49204.1982421875)\n"
       ]
      },
      {
       "output_type": "stream",
       "stream": "stdout",
       "text": [
        "('with in recorder, ', 49405.17578125)\n",
        "('with in recorder, ', 49659.980712890625)\n"
       ]
      },
      {
       "output_type": "stream",
       "stream": "stdout",
       "text": [
        "('with in recorder, ', 49902.130859375)\n",
        "('with in recorder, ', 50147.388671875)\n"
       ]
      },
      {
       "output_type": "stream",
       "stream": "stdout",
       "text": [
        "('with in recorder, ', 50347.436279296875)\n",
        "('with in recorder, ', 50597.38330078125)\n"
       ]
      },
      {
       "output_type": "stream",
       "stream": "stdout",
       "text": [
        "('with in recorder, ', 50848.368408203125)\n",
        "('with in recorder, ', 51097.958984375)\n"
       ]
      },
      {
       "output_type": "stream",
       "stream": "stdout",
       "text": [
        "('with in recorder, ', 51299.3076171875)\n",
        "('with in recorder, ', 55248.025634765625)\n"
       ]
      },
      {
       "output_type": "stream",
       "stream": "stdout",
       "text": [
        "('with in recorder, ', 55447.074951171875)\n",
        "('with in recorder, ', 55647.84375)\n"
       ]
      },
      {
       "output_type": "stream",
       "stream": "stdout",
       "text": [
        "('with in recorder, ', 55847.663330078125)\n",
        "('with in recorder, ', 56097.97607421875)\n"
       ]
      },
      {
       "output_type": "stream",
       "stream": "stdout",
       "text": [
        "('with in recorder, ', 56298.98193359375)\n",
        "('with in recorder, ', 56549.38232421875)\n"
       ]
      },
      {
       "output_type": "stream",
       "stream": "stdout",
       "text": [
        "('with in recorder, ', 56797.703125)\n",
        "('with in recorder, ', 57008.745849609375)\n"
       ]
      },
      {
       "output_type": "stream",
       "stream": "stdout",
       "text": [
        "('with in recorder, ', 57256.56787109375)\n",
        "('with in recorder, ', 57503.11767578125)\n"
       ]
      },
      {
       "output_type": "stream",
       "stream": "stdout",
       "text": [
        "('with in recorder, ', 57750.255859375)\n",
        "('with in recorder, ', 57998.532470703125)\n"
       ]
      },
      {
       "output_type": "stream",
       "stream": "stdout",
       "text": [
        "('with in recorder, ', 58247.498779296875)\n",
        "('with in recorder, ', 58447.6279296875)\n"
       ]
      },
      {
       "output_type": "stream",
       "stream": "stdout",
       "text": [
        "('with in recorder, ', 58646.564453125)\n",
        "('with in recorder, ', 58894.223876953125)\n"
       ]
      },
      {
       "output_type": "stream",
       "stream": "stdout",
       "text": [
        "('with in recorder, ', 59143.303955078125)\n",
        "('with in recorder, ', 59344.192138671875)\n"
       ]
      },
      {
       "output_type": "stream",
       "stream": "stdout",
       "text": [
        "('with in recorder, ', 59546.2705078125)\n",
        "('with in recorder, ', 59795.7744140625)\n"
       ]
      },
      {
       "output_type": "stream",
       "stream": "stdout",
       "text": [
        "('with in recorder, ', 59996.78955078125)\n",
        "('with in recorder, ', 60206.067626953125)\n"
       ]
      },
      {
       "output_type": "stream",
       "stream": "stdout",
       "text": [
        "('with in recorder, ', 60441.66943359375)\n",
        "('with in recorder, ', 60640.614501953125)\n"
       ]
      },
      {
       "output_type": "stream",
       "stream": "stdout",
       "text": [
        "('with in recorder, ', 60894.34326171875)\n",
        "('with in recorder, ', 61143.953857421875)\n"
       ]
      },
      {
       "output_type": "stream",
       "stream": "stdout",
       "text": [
        "('with in recorder, ', 61391.169921875)\n",
        "('with in recorder, ', 61649.209716796875)\n"
       ]
      },
      {
       "output_type": "stream",
       "stream": "stdout",
       "text": [
        "('with in recorder, ', 61852.506591796875)\n",
        "('with in recorder, ', 62048.8857421875)\n",
        "('with in recorder, ', 62251.422607421875)\n"
       ]
      },
      {
       "output_type": "stream",
       "stream": "stdout",
       "text": [
        "('with in recorder, ', 62498.958251953125)\n",
        "('with in recorder, ', 62746.948974609375)\n"
       ]
      },
      {
       "output_type": "stream",
       "stream": "stdout",
       "text": [
        "('with in recorder, ', 62947.559814453125)\n",
        "('with in recorder, ', 63196.697509765625)\n",
        "('with in recorder, ', 63443.775634765625)\n"
       ]
      },
      {
       "output_type": "stream",
       "stream": "stdout",
       "text": [
        "('with in recorder, ', 63693.7841796875)\n",
        "('with in recorder, ', 63943.8837890625)\n",
        "('with in recorder, ', 64194.39453125)\n"
       ]
      },
      {
       "output_type": "stream",
       "stream": "stdout",
       "text": [
        "('with in recorder, ', 64441.720703125)\n",
        "('with in recorder, ', 64689.065185546875)\n",
        "('with in recorder, ', 64937.673095703125)\n"
       ]
      }
     ],
     "prompt_number": 72
    }
   ],
   "metadata": {}
  }
 ]
}